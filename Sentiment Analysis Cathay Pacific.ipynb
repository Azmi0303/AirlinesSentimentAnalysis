{
 "cells": [
  {
   "attachments": {},
   "cell_type": "markdown",
   "metadata": {},
   "source": [
    "# 1. Install and Import Dependencies"
   ]
  },
  {
   "cell_type": "code",
   "execution_count": 1,
   "metadata": {},
   "outputs": [
    {
     "name": "stdout",
     "output_type": "stream",
     "text": [
      "Requirement already satisfied: torch in /Users/auliaazmi/opt/anaconda3/envs/venv1/lib/python3.9/site-packages (1.13.0)\n",
      "Requirement already satisfied: torchvision in /Users/auliaazmi/opt/anaconda3/envs/venv1/lib/python3.9/site-packages (0.14.0)\n",
      "\u001b[31mERROR: Could not find a version that satisfies the requirement torchaidio (from versions: none)\u001b[0m\n",
      "\u001b[31mERROR: No matching distribution found for torchaidio\u001b[0m\n"
     ]
    }
   ],
   "source": [
    "!pip install torch torchvision torchaidio"
   ]
  },
  {
   "cell_type": "code",
   "execution_count": 2,
   "metadata": {},
   "outputs": [
    {
     "name": "stdout",
     "output_type": "stream",
     "text": [
      "Requirement already satisfied: transformers in /Users/auliaazmi/opt/anaconda3/envs/venv1/lib/python3.9/site-packages (4.26.0.dev0)\n",
      "Requirement already satisfied: requests in /Users/auliaazmi/opt/anaconda3/envs/venv1/lib/python3.9/site-packages (2.27.1)\n",
      "Requirement already satisfied: beautifulsoup4 in /Users/auliaazmi/opt/anaconda3/envs/venv1/lib/python3.9/site-packages (4.11.1)\n",
      "Requirement already satisfied: pandas in /Users/auliaazmi/opt/anaconda3/envs/venv1/lib/python3.9/site-packages (1.4.2)\n",
      "Requirement already satisfied: numpy in /Users/auliaazmi/opt/anaconda3/envs/venv1/lib/python3.9/site-packages (1.24.1)\n",
      "Requirement already satisfied: pyyaml>=5.1 in /Users/auliaazmi/opt/anaconda3/envs/venv1/lib/python3.9/site-packages (from transformers) (6.0)\n",
      "Requirement already satisfied: tqdm>=4.27 in /Users/auliaazmi/opt/anaconda3/envs/venv1/lib/python3.9/site-packages (from transformers) (4.64.0)\n",
      "Requirement already satisfied: tokenizers!=0.11.3,<0.14,>=0.11.1 in /Users/auliaazmi/opt/anaconda3/envs/venv1/lib/python3.9/site-packages (from transformers) (0.13.2)\n",
      "Requirement already satisfied: huggingface-hub<1.0,>=0.10.0 in /Users/auliaazmi/opt/anaconda3/envs/venv1/lib/python3.9/site-packages (from transformers) (0.11.1)\n",
      "Requirement already satisfied: packaging>=20.0 in /Users/auliaazmi/opt/anaconda3/envs/venv1/lib/python3.9/site-packages (from transformers) (21.3)\n",
      "Requirement already satisfied: filelock in /Users/auliaazmi/opt/anaconda3/envs/venv1/lib/python3.9/site-packages (from transformers) (3.6.0)\n",
      "Requirement already satisfied: regex!=2019.12.17 in /Users/auliaazmi/opt/anaconda3/envs/venv1/lib/python3.9/site-packages (from transformers) (2022.3.15)\n",
      "Requirement already satisfied: certifi>=2017.4.17 in /Users/auliaazmi/opt/anaconda3/envs/venv1/lib/python3.9/site-packages (from requests) (2022.12.7)\n",
      "Requirement already satisfied: idna<4,>=2.5 in /Users/auliaazmi/opt/anaconda3/envs/venv1/lib/python3.9/site-packages (from requests) (3.3)\n",
      "Requirement already satisfied: charset-normalizer~=2.0.0 in /Users/auliaazmi/opt/anaconda3/envs/venv1/lib/python3.9/site-packages (from requests) (2.0.4)\n",
      "Requirement already satisfied: urllib3<1.27,>=1.21.1 in /Users/auliaazmi/opt/anaconda3/envs/venv1/lib/python3.9/site-packages (from requests) (1.26.9)\n",
      "Requirement already satisfied: soupsieve>1.2 in /Users/auliaazmi/opt/anaconda3/envs/venv1/lib/python3.9/site-packages (from beautifulsoup4) (2.3.1)\n",
      "Requirement already satisfied: python-dateutil>=2.8.1 in /Users/auliaazmi/opt/anaconda3/envs/venv1/lib/python3.9/site-packages (from pandas) (2.8.2)\n",
      "Requirement already satisfied: pytz>=2020.1 in /Users/auliaazmi/opt/anaconda3/envs/venv1/lib/python3.9/site-packages (from pandas) (2021.3)\n",
      "Requirement already satisfied: typing-extensions>=3.7.4.3 in /Users/auliaazmi/opt/anaconda3/envs/venv1/lib/python3.9/site-packages (from huggingface-hub<1.0,>=0.10.0->transformers) (4.1.1)\n",
      "Requirement already satisfied: pyparsing!=3.0.5,>=2.0.2 in /Users/auliaazmi/opt/anaconda3/envs/venv1/lib/python3.9/site-packages (from packaging>=20.0->transformers) (3.0.4)\n",
      "Requirement already satisfied: six>=1.5 in /Users/auliaazmi/opt/anaconda3/envs/venv1/lib/python3.9/site-packages (from python-dateutil>=2.8.1->pandas) (1.16.0)\n"
     ]
    }
   ],
   "source": [
    "!pip install transformers requests beautifulsoup4 pandas numpy"
   ]
  },
  {
   "cell_type": "code",
   "execution_count": 3,
   "metadata": {},
   "outputs": [
    {
     "name": "stderr",
     "output_type": "stream",
     "text": [
      "/Users/auliaazmi/opt/anaconda3/envs/venv1/lib/python3.9/site-packages/scipy/__init__.py:146: UserWarning: A NumPy version >=1.16.5 and <1.23.0 is required for this version of SciPy (detected version 1.24.1\n",
      "  warnings.warn(f\"A NumPy version >={np_minversion} and <{np_maxversion}\"\n"
     ]
    }
   ],
   "source": [
    "from transformers import AutoTokenizer, AutoModelForSequenceClassification\n",
    "import torch\n",
    "import requests\n",
    "from bs4 import BeautifulSoup\n",
    "import re"
   ]
  },
  {
   "cell_type": "code",
   "execution_count": 4,
   "metadata": {},
   "outputs": [
    {
     "name": "stdout",
     "output_type": "stream",
     "text": [
      "Requirement already satisfied: selenium in /Users/auliaazmi/opt/anaconda3/envs/venv1/lib/python3.9/site-packages (4.7.2)\n",
      "Requirement already satisfied: trio-websocket~=0.9 in /Users/auliaazmi/opt/anaconda3/envs/venv1/lib/python3.9/site-packages (from selenium) (0.9.2)\n",
      "Requirement already satisfied: certifi>=2021.10.8 in /Users/auliaazmi/opt/anaconda3/envs/venv1/lib/python3.9/site-packages (from selenium) (2022.12.7)\n",
      "Requirement already satisfied: trio~=0.17 in /Users/auliaazmi/opt/anaconda3/envs/venv1/lib/python3.9/site-packages (from selenium) (0.22.0)\n",
      "Requirement already satisfied: urllib3[socks]~=1.26 in /Users/auliaazmi/opt/anaconda3/envs/venv1/lib/python3.9/site-packages (from selenium) (1.26.9)\n",
      "Requirement already satisfied: idna in /Users/auliaazmi/opt/anaconda3/envs/venv1/lib/python3.9/site-packages (from trio~=0.17->selenium) (3.3)\n",
      "Requirement already satisfied: attrs>=19.2.0 in /Users/auliaazmi/opt/anaconda3/envs/venv1/lib/python3.9/site-packages (from trio~=0.17->selenium) (21.4.0)\n",
      "Requirement already satisfied: async-generator>=1.9 in /Users/auliaazmi/opt/anaconda3/envs/venv1/lib/python3.9/site-packages (from trio~=0.17->selenium) (1.10)\n",
      "Requirement already satisfied: sniffio in /Users/auliaazmi/opt/anaconda3/envs/venv1/lib/python3.9/site-packages (from trio~=0.17->selenium) (1.2.0)\n",
      "Requirement already satisfied: exceptiongroup>=1.0.0rc9 in /Users/auliaazmi/opt/anaconda3/envs/venv1/lib/python3.9/site-packages (from trio~=0.17->selenium) (1.1.0)\n",
      "Requirement already satisfied: outcome in /Users/auliaazmi/opt/anaconda3/envs/venv1/lib/python3.9/site-packages (from trio~=0.17->selenium) (1.2.0)\n",
      "Requirement already satisfied: sortedcontainers in /Users/auliaazmi/opt/anaconda3/envs/venv1/lib/python3.9/site-packages (from trio~=0.17->selenium) (2.4.0)\n",
      "Requirement already satisfied: wsproto>=0.14 in /Users/auliaazmi/opt/anaconda3/envs/venv1/lib/python3.9/site-packages (from trio-websocket~=0.9->selenium) (1.2.0)\n",
      "Requirement already satisfied: PySocks!=1.5.7,<2.0,>=1.5.6 in /Users/auliaazmi/opt/anaconda3/envs/venv1/lib/python3.9/site-packages (from urllib3[socks]~=1.26->selenium) (1.7.1)\n",
      "Requirement already satisfied: h11<1,>=0.9.0 in /Users/auliaazmi/opt/anaconda3/envs/venv1/lib/python3.9/site-packages (from wsproto>=0.14->trio-websocket~=0.9->selenium) (0.14.0)\n"
     ]
    }
   ],
   "source": [
    "!pip install selenium"
   ]
  },
  {
   "cell_type": "code",
   "execution_count": 5,
   "metadata": {},
   "outputs": [],
   "source": [
    "from selenium import webdriver\n",
    "from selenium.webdriver.common.keys import Keys\n",
    "from selenium.webdriver.common.by import By\n",
    "from selenium.webdriver.support.ui import WebDriverWait\n",
    "from selenium.webdriver.support import expected_conditions as expected_conditions\n",
    "import time\n",
    "import csv"
   ]
  },
  {
   "cell_type": "code",
   "execution_count": 6,
   "metadata": {},
   "outputs": [],
   "source": [
    "import pandas as pd"
   ]
  },
  {
   "cell_type": "code",
   "execution_count": 7,
   "metadata": {},
   "outputs": [],
   "source": [
    "import nltk"
   ]
  },
  {
   "cell_type": "code",
   "execution_count": 8,
   "metadata": {},
   "outputs": [],
   "source": [
    "from nltk.sentiment.vader import SentimentIntensityAnalyzer\n",
    "\n",
    "sia = SentimentIntensityAnalyzer()"
   ]
  },
  {
   "cell_type": "code",
   "execution_count": 9,
   "metadata": {},
   "outputs": [
    {
     "name": "stdout",
     "output_type": "stream",
     "text": [
      "Requirement already satisfied: wordcloud in /Users/auliaazmi/opt/anaconda3/envs/venv1/lib/python3.9/site-packages (1.8.2.2)\n",
      "Requirement already satisfied: matplotlib in /Users/auliaazmi/opt/anaconda3/envs/venv1/lib/python3.9/site-packages (from wordcloud) (3.5.1)\n",
      "Requirement already satisfied: pillow in /Users/auliaazmi/opt/anaconda3/envs/venv1/lib/python3.9/site-packages (from wordcloud) (9.0.1)\n",
      "Requirement already satisfied: numpy>=1.6.1 in /Users/auliaazmi/opt/anaconda3/envs/venv1/lib/python3.9/site-packages (from wordcloud) (1.24.1)\n",
      "Requirement already satisfied: cycler>=0.10 in /Users/auliaazmi/opt/anaconda3/envs/venv1/lib/python3.9/site-packages (from matplotlib->wordcloud) (0.11.0)\n",
      "Requirement already satisfied: kiwisolver>=1.0.1 in /Users/auliaazmi/opt/anaconda3/envs/venv1/lib/python3.9/site-packages (from matplotlib->wordcloud) (1.3.2)\n",
      "Requirement already satisfied: python-dateutil>=2.7 in /Users/auliaazmi/opt/anaconda3/envs/venv1/lib/python3.9/site-packages (from matplotlib->wordcloud) (2.8.2)\n",
      "Requirement already satisfied: pyparsing>=2.2.1 in /Users/auliaazmi/opt/anaconda3/envs/venv1/lib/python3.9/site-packages (from matplotlib->wordcloud) (3.0.4)\n",
      "Requirement already satisfied: packaging>=20.0 in /Users/auliaazmi/opt/anaconda3/envs/venv1/lib/python3.9/site-packages (from matplotlib->wordcloud) (21.3)\n",
      "Requirement already satisfied: fonttools>=4.22.0 in /Users/auliaazmi/opt/anaconda3/envs/venv1/lib/python3.9/site-packages (from matplotlib->wordcloud) (4.25.0)\n",
      "Requirement already satisfied: six>=1.5 in /Users/auliaazmi/opt/anaconda3/envs/venv1/lib/python3.9/site-packages (from python-dateutil>=2.7->matplotlib->wordcloud) (1.16.0)\n"
     ]
    }
   ],
   "source": [
    "!pip install wordcloud"
   ]
  },
  {
   "attachments": {},
   "cell_type": "markdown",
   "metadata": {},
   "source": [
    "# 2. Instantiine Model"
   ]
  },
  {
   "attachments": {},
   "cell_type": "markdown",
   "metadata": {},
   "source": [
    "## bert model"
   ]
  },
  {
   "cell_type": "code",
   "execution_count": 10,
   "metadata": {},
   "outputs": [],
   "source": [
    "tokenizer = AutoTokenizer.from_pretrained('nlptown/bert-base-multilingual-uncased-sentiment')\n",
    "model = AutoModelForSequenceClassification.from_pretrained('nlptown/bert-base-multilingual-uncased-sentiment')"
   ]
  },
  {
   "attachments": {},
   "cell_type": "markdown",
   "metadata": {},
   "source": [
    "# 3. Encode and Calculate Sentiment"
   ]
  },
  {
   "attachments": {},
   "cell_type": "markdown",
   "metadata": {},
   "source": [
    "## bert model"
   ]
  },
  {
   "cell_type": "code",
   "execution_count": 11,
   "metadata": {},
   "outputs": [],
   "source": [
    "tokens = tokenizer.encode('It was a Great Experience! I would definitely fly with Singapore Airlines again!', return_tensors='pt')"
   ]
  },
  {
   "cell_type": "code",
   "execution_count": 12,
   "metadata": {},
   "outputs": [
    {
     "data": {
      "text/plain": [
       "tensor([[  101, 10197, 10140,   143, 11838, 16277,   106,   151, 11008, 69923,\n",
       "         27393, 19158, 10171, 19649, 17694, 12590,   106,   102]])"
      ]
     },
     "execution_count": 12,
     "metadata": {},
     "output_type": "execute_result"
    }
   ],
   "source": [
    "tokens"
   ]
  },
  {
   "cell_type": "code",
   "execution_count": 13,
   "metadata": {},
   "outputs": [
    {
     "data": {
      "text/plain": [
       "tensor([  101, 10197, 10140,   143, 11838, 16277,   106,   151, 11008, 69923,\n",
       "        27393, 19158, 10171, 19649, 17694, 12590,   106,   102])"
      ]
     },
     "execution_count": 13,
     "metadata": {},
     "output_type": "execute_result"
    }
   ],
   "source": [
    "tokens[0]"
   ]
  },
  {
   "cell_type": "code",
   "execution_count": 14,
   "metadata": {},
   "outputs": [
    {
     "data": {
      "text/plain": [
       "'[CLS] it was a great experience! i would definitely fly with singapore airlines again! [SEP]'"
      ]
     },
     "execution_count": 14,
     "metadata": {},
     "output_type": "execute_result"
    }
   ],
   "source": [
    "tokenizer.decode(tokens[0])"
   ]
  },
  {
   "cell_type": "code",
   "execution_count": 15,
   "metadata": {},
   "outputs": [],
   "source": [
    "result = model(tokens)"
   ]
  },
  {
   "cell_type": "code",
   "execution_count": 16,
   "metadata": {},
   "outputs": [
    {
     "data": {
      "text/plain": [
       "SequenceClassifierOutput(loss=None, logits=tensor([[-2.1834, -2.2341, -0.8046,  1.4386,  2.9149]],\n",
       "       grad_fn=<AddmmBackward0>), hidden_states=None, attentions=None)"
      ]
     },
     "execution_count": 16,
     "metadata": {},
     "output_type": "execute_result"
    }
   ],
   "source": [
    "result"
   ]
  },
  {
   "cell_type": "code",
   "execution_count": 17,
   "metadata": {},
   "outputs": [
    {
     "data": {
      "text/plain": [
       "tensor([[-2.1834, -2.2341, -0.8046,  1.4386,  2.9149]],\n",
       "       grad_fn=<AddmmBackward0>)"
      ]
     },
     "execution_count": 17,
     "metadata": {},
     "output_type": "execute_result"
    }
   ],
   "source": [
    "result.logits"
   ]
  },
  {
   "cell_type": "code",
   "execution_count": 18,
   "metadata": {},
   "outputs": [
    {
     "data": {
      "text/plain": [
       "5"
      ]
     },
     "execution_count": 18,
     "metadata": {},
     "output_type": "execute_result"
    }
   ],
   "source": [
    "int(torch.argmax(result.logits))+1"
   ]
  },
  {
   "cell_type": "code",
   "execution_count": 19,
   "metadata": {},
   "outputs": [],
   "source": [
    "def bert_model(review):\n",
    "    tokens = tokenizer.encode(review, return_tensors='pt')\n",
    "    result = model(tokens)\n",
    "    return int(torch.argmax(result.logits))+1\n"
   ]
  },
  {
   "attachments": {},
   "cell_type": "markdown",
   "metadata": {},
   "source": [
    "## VADER MODEL"
   ]
  },
  {
   "attachments": {},
   "cell_type": "markdown",
   "metadata": {},
   "source": [
    "# 4. Collect Reviews"
   ]
  },
  {
   "cell_type": "code",
   "execution_count": 20,
   "metadata": {},
   "outputs": [],
   "source": [
    "url = \"https://www.tripadvisor.com/Airline_Review-d8729046-Reviews-Cathay-Pacific\""
   ]
  },
  {
   "cell_type": "code",
   "execution_count": 21,
   "metadata": {},
   "outputs": [
    {
     "name": "stdout",
     "output_type": "stream",
     "text": [
      "huggingface/tokenizers: The current process just got forked, after parallelism has already been used. Disabling parallelism to avoid deadlocks...\n",
      "To disable this warning, you can either:\n",
      "\t- Avoid using `tokenizers` before the fork if possible\n",
      "\t- Explicitly set the environment variable TOKENIZERS_PARALLELISM=(true | false)\n",
      "zsh:1: command not found: apt-get\n",
      "huggingface/tokenizers: The current process just got forked, after parallelism has already been used. Disabling parallelism to avoid deadlocks...\n",
      "To disable this warning, you can either:\n",
      "\t- Avoid using `tokenizers` before the fork if possible\n",
      "\t- Explicitly set the environment variable TOKENIZERS_PARALLELISM=(true | false)\n",
      "The operation couldn’t be completed. Unable to locate a Java Runtime that supports apt.\n",
      "Please visit http://www.java.com for information on installing Java.\n",
      "\n",
      "huggingface/tokenizers: The current process just got forked, after parallelism has already been used. Disabling parallelism to avoid deadlocks...\n",
      "To disable this warning, you can either:\n",
      "\t- Avoid using `tokenizers` before the fork if possible\n",
      "\t- Explicitly set the environment variable TOKENIZERS_PARALLELISM=(true | false)\n",
      "huggingface/tokenizers: The current process just got forked, after parallelism has already been used. Disabling parallelism to avoid deadlocks...\n",
      "To disable this warning, you can either:\n",
      "\t- Avoid using `tokenizers` before the fork if possible\n",
      "\t- Explicitly set the environment variable TOKENIZERS_PARALLELISM=(true | false)\n"
     ]
    },
    {
     "name": "stderr",
     "output_type": "stream",
     "text": [
      "/var/folders/hl/ydncxj4n49xcv0c4255x0wyw0000gn/T/ipykernel_1261/2589910448.py:8: DeprecationWarning: use options instead of chrome_options\n",
      "  driver = webdriver.Chrome('chromedriver',chrome_options=chrome_options)\n"
     ]
    },
    {
     "name": "stdout",
     "output_type": "stream",
     "text": [
      "huggingface/tokenizers: The current process just got forked, after parallelism has already been used. Disabling parallelism to avoid deadlocks...\n",
      "To disable this warning, you can either:\n",
      "\t- Avoid using `tokenizers` before the fork if possible\n",
      "\t- Explicitly set the environment variable TOKENIZERS_PARALLELISM=(true | false)\n"
     ]
    }
   ],
   "source": [
    "!apt-get update\n",
    "!apt install chromium-chromedriver\n",
    "\n",
    "chrome_options = webdriver.ChromeOptions()\n",
    "chrome_options.add_argument('--headless')\n",
    "chrome_options.add_argument('--no-sandbox')\n",
    "chrome_options.add_argument('--disable-dev-shm-usage')\n",
    "driver = webdriver.Chrome('chromedriver',chrome_options=chrome_options)"
   ]
  },
  {
   "cell_type": "code",
   "execution_count": 22,
   "metadata": {},
   "outputs": [],
   "source": [
    "driver.get(url)"
   ]
  },
  {
   "cell_type": "code",
   "execution_count": 23,
   "metadata": {},
   "outputs": [],
   "source": [
    "counter = 0"
   ]
  },
  {
   "cell_type": "code",
   "execution_count": 25,
   "metadata": {},
   "outputs": [
    {
     "ename": "WebDriverException",
     "evalue": "Message: disconnected: Unable to receive message from renderer\n  (failed to check if window was closed: timeout: Timed out receiving message from renderer: 600.000)\n  (Session info: headless chrome=108.0.5359.124)\nStacktrace:\n0   chromedriver                        0x0000000100e04f38 chromedriver + 4910904\n1   chromedriver                        0x0000000100d84a03 chromedriver + 4385283\n2   chromedriver                        0x00000001009c9747 chromedriver + 472903\n3   chromedriver                        0x00000001009b2427 chromedriver + 377895\n4   chromedriver                        0x00000001009b20a0 chromedriver + 376992\n5   chromedriver                        0x00000001009b07f2 chromedriver + 370674\n6   chromedriver                        0x00000001009b0bb4 chromedriver + 371636\n7   chromedriver                        0x00000001009af3d1 chromedriver + 365521\n8   chromedriver                        0x00000001009c08d9 chromedriver + 436441\n9   chromedriver                        0x00000001009aed16 chromedriver + 363798\n10  chromedriver                        0x00000001009b1b46 chromedriver + 375622\n11  chromedriver                        0x00000001009b07f2 chromedriver + 370674\n12  chromedriver                        0x00000001009b0bb4 chromedriver + 371636\n13  chromedriver                        0x00000001009af3d1 chromedriver + 365521\n14  chromedriver                        0x00000001009b8260 chromedriver + 402016\n15  chromedriver                        0x00000001009b82cc chromedriver + 402124\n16  chromedriver                        0x00000001009aed16 chromedriver + 363798\n17  chromedriver                        0x00000001009b1b46 chromedriver + 375622\n18  chromedriver                        0x00000001009b07f2 chromedriver + 370674\n19  chromedriver                        0x00000001009b0bb4 chromedriver + 371636\n20  chromedriver                        0x00000001009af3d1 chromedriver + 365521\n21  chromedriver                        0x00000001009bd010 chromedriver + 421904\n22  chromedriver                        0x00000001009aed16 chromedriver + 363798\n23  chromedriver                        0x00000001009b1b46 chromedriver + 375622\n24  chromedriver                        0x00000001009b07f2 chromedriver + 370674\n25  chromedriver                        0x00000001009b0bb4 chromedriver + 371636\n26  chromedriver                        0x00000001009af3d1 chromedriver + 365521\n27  chromedriver                        0x00000001009b88af chromedriver + 403631\n28  chromedriver                        0x00000001009aed16 chromedriver + 363798\n29  chromedriver                        0x00000001009b1b46 chromedriver + 375622\n30  chromedriver                        0x00000001009b07f2 chromedriver + 370674\n31  chromedriver                        0x00000001009b0bb4 chromedriver + 371636\n32  chromedriver                        0x00000001009af3d1 chromedriver + 365521\n33  chromedriver                        0x00000001009a7076 chromedriver + 331894\n34  chromedriver                        0x00000001009aed16 chromedriver + 363798\n35  chromedriver                        0x00000001009ae264 chromedriver + 361060\n36  chromedriver                        0x00000001009ae390 chromedriver + 361360\n37  chromedriver                        0x00000001009ae6b9 chromedriver + 362169\n38  chromedriver                        0x00000001009ae66f chromedriver + 362095\n39  chromedriver                        0x00000001009cb369 chromedriver + 480105\n40  chromedriver                        0x0000000100a4e7b1 chromedriver + 1017777\n41  chromedriver                        0x0000000100a33ee3 chromedriver + 909027\n42  chromedriver                        0x00000001009fe30c chromedriver + 688908\n43  chromedriver                        0x00000001009ff88e chromedriver + 694414\n44  chromedriver                        0x0000000100dd21de chromedriver + 4702686\n45  chromedriver                        0x0000000100dd6b19 chromedriver + 4721433\n46  chromedriver                        0x0000000100dde28e chromedriver + 4752014\n47  chromedriver                        0x0000000100dd791a chromedriver + 4725018\n48  chromedriver                        0x0000000100dabb02 chromedriver + 4545282\n49  chromedriver                        0x0000000100df6888 chromedriver + 4851848\n50  chromedriver                        0x0000000100df6a05 chromedriver + 4852229\n51  chromedriver                        0x0000000100e0ce5f chromedriver + 4943455\n52  libsystem_pthread.dylib             0x00007ff803cb7259 _pthread_start + 125\n53  libsystem_pthread.dylib             0x00007ff803cb2c7b thread_start + 15\n",
     "output_type": "error",
     "traceback": [
      "\u001b[0;31m---------------------------------------------------------------------------\u001b[0m",
      "\u001b[0;31mWebDriverException\u001b[0m                        Traceback (most recent call last)",
      "\u001b[1;32m/Users/auliaazmi/Data Science/Sentiment Analysis Cathay Pacific.ipynb Cell 31\u001b[0m in \u001b[0;36m<cell line: 2>\u001b[0;34m()\u001b[0m\n\u001b[1;32m      <a href='vscode-notebook-cell:/Users/auliaazmi/Data%20Science/Sentiment%20Analysis%20Cathay%20Pacific.ipynb#X43sZmlsZQ%3D%3D?line=0'>1</a>\u001b[0m reviews_list \u001b[39m=\u001b[39m []\n\u001b[1;32m      <a href='vscode-notebook-cell:/Users/auliaazmi/Data%20Science/Sentiment%20Analysis%20Cathay%20Pacific.ipynb#X43sZmlsZQ%3D%3D?line=1'>2</a>\u001b[0m \u001b[39mfor\u001b[39;00m i \u001b[39min\u001b[39;00m \u001b[39mrange\u001b[39m(\u001b[39m0\u001b[39m, \u001b[39m1000\u001b[39m):\n\u001b[0;32m----> <a href='vscode-notebook-cell:/Users/auliaazmi/Data%20Science/Sentiment%20Analysis%20Cathay%20Pacific.ipynb#X43sZmlsZQ%3D%3D?line=2'>3</a>\u001b[0m     reviews \u001b[39m=\u001b[39m driver\u001b[39m.\u001b[39;49mfind_elements(By\u001b[39m.\u001b[39;49mXPATH, \u001b[39m\"\u001b[39;49m\u001b[39m(//q[@class=\u001b[39;49m\u001b[39m'\u001b[39;49m\u001b[39mQewHA H4 _a\u001b[39;49m\u001b[39m'\u001b[39;49m\u001b[39m]/span)\u001b[39;49m\u001b[39m\"\u001b[39;49m) \n\u001b[1;32m      <a href='vscode-notebook-cell:/Users/auliaazmi/Data%20Science/Sentiment%20Analysis%20Cathay%20Pacific.ipynb#X43sZmlsZQ%3D%3D?line=3'>4</a>\u001b[0m     \u001b[39mfor\u001b[39;00m review \u001b[39min\u001b[39;00m \u001b[39mrange\u001b[39m(\u001b[39mlen\u001b[39m(reviews)):\n\u001b[1;32m      <a href='vscode-notebook-cell:/Users/auliaazmi/Data%20Science/Sentiment%20Analysis%20Cathay%20Pacific.ipynb#X43sZmlsZQ%3D%3D?line=4'>5</a>\u001b[0m         reviews_list\u001b[39m.\u001b[39mappend(reviews[review]\u001b[39m.\u001b[39mtext)  \n",
      "File \u001b[0;32m~/opt/anaconda3/envs/venv1/lib/python3.9/site-packages/selenium/webdriver/remote/webdriver.py:892\u001b[0m, in \u001b[0;36mWebDriver.find_elements\u001b[0;34m(self, by, value)\u001b[0m\n\u001b[1;32m    888\u001b[0m     value \u001b[39m=\u001b[39m \u001b[39m'\u001b[39m\u001b[39m[name=\u001b[39m\u001b[39m\"\u001b[39m\u001b[39m%s\u001b[39;00m\u001b[39m\"\u001b[39m\u001b[39m]\u001b[39m\u001b[39m'\u001b[39m \u001b[39m%\u001b[39m value\n\u001b[1;32m    890\u001b[0m \u001b[39m# Return empty list if driver returns null\u001b[39;00m\n\u001b[1;32m    891\u001b[0m \u001b[39m# See https://github.com/SeleniumHQ/selenium/issues/4555\u001b[39;00m\n\u001b[0;32m--> 892\u001b[0m \u001b[39mreturn\u001b[39;00m \u001b[39mself\u001b[39;49m\u001b[39m.\u001b[39;49mexecute(Command\u001b[39m.\u001b[39;49mFIND_ELEMENTS, {\u001b[39m\"\u001b[39;49m\u001b[39musing\u001b[39;49m\u001b[39m\"\u001b[39;49m: by, \u001b[39m\"\u001b[39;49m\u001b[39mvalue\u001b[39;49m\u001b[39m\"\u001b[39;49m: value})[\u001b[39m\"\u001b[39m\u001b[39mvalue\u001b[39m\u001b[39m\"\u001b[39m] \u001b[39mor\u001b[39;00m []\n",
      "File \u001b[0;32m~/opt/anaconda3/envs/venv1/lib/python3.9/site-packages/selenium/webdriver/remote/webdriver.py:444\u001b[0m, in \u001b[0;36mWebDriver.execute\u001b[0;34m(self, driver_command, params)\u001b[0m\n\u001b[1;32m    442\u001b[0m response \u001b[39m=\u001b[39m \u001b[39mself\u001b[39m\u001b[39m.\u001b[39mcommand_executor\u001b[39m.\u001b[39mexecute(driver_command, params)\n\u001b[1;32m    443\u001b[0m \u001b[39mif\u001b[39;00m response:\n\u001b[0;32m--> 444\u001b[0m     \u001b[39mself\u001b[39;49m\u001b[39m.\u001b[39;49merror_handler\u001b[39m.\u001b[39;49mcheck_response(response)\n\u001b[1;32m    445\u001b[0m     response[\u001b[39m\"\u001b[39m\u001b[39mvalue\u001b[39m\u001b[39m\"\u001b[39m] \u001b[39m=\u001b[39m \u001b[39mself\u001b[39m\u001b[39m.\u001b[39m_unwrap_value(response\u001b[39m.\u001b[39mget(\u001b[39m\"\u001b[39m\u001b[39mvalue\u001b[39m\u001b[39m\"\u001b[39m, \u001b[39mNone\u001b[39;00m))\n\u001b[1;32m    446\u001b[0m     \u001b[39mreturn\u001b[39;00m response\n",
      "File \u001b[0;32m~/opt/anaconda3/envs/venv1/lib/python3.9/site-packages/selenium/webdriver/remote/errorhandler.py:249\u001b[0m, in \u001b[0;36mErrorHandler.check_response\u001b[0;34m(self, response)\u001b[0m\n\u001b[1;32m    247\u001b[0m         alert_text \u001b[39m=\u001b[39m value[\u001b[39m\"\u001b[39m\u001b[39malert\u001b[39m\u001b[39m\"\u001b[39m]\u001b[39m.\u001b[39mget(\u001b[39m\"\u001b[39m\u001b[39mtext\u001b[39m\u001b[39m\"\u001b[39m)\n\u001b[1;32m    248\u001b[0m     \u001b[39mraise\u001b[39;00m exception_class(message, screen, stacktrace, alert_text)  \u001b[39m# type: ignore[call-arg]  # mypy is not smart enough here\u001b[39;00m\n\u001b[0;32m--> 249\u001b[0m \u001b[39mraise\u001b[39;00m exception_class(message, screen, stacktrace)\n",
      "\u001b[0;31mWebDriverException\u001b[0m: Message: disconnected: Unable to receive message from renderer\n  (failed to check if window was closed: timeout: Timed out receiving message from renderer: 600.000)\n  (Session info: headless chrome=108.0.5359.124)\nStacktrace:\n0   chromedriver                        0x0000000100e04f38 chromedriver + 4910904\n1   chromedriver                        0x0000000100d84a03 chromedriver + 4385283\n2   chromedriver                        0x00000001009c9747 chromedriver + 472903\n3   chromedriver                        0x00000001009b2427 chromedriver + 377895\n4   chromedriver                        0x00000001009b20a0 chromedriver + 376992\n5   chromedriver                        0x00000001009b07f2 chromedriver + 370674\n6   chromedriver                        0x00000001009b0bb4 chromedriver + 371636\n7   chromedriver                        0x00000001009af3d1 chromedriver + 365521\n8   chromedriver                        0x00000001009c08d9 chromedriver + 436441\n9   chromedriver                        0x00000001009aed16 chromedriver + 363798\n10  chromedriver                        0x00000001009b1b46 chromedriver + 375622\n11  chromedriver                        0x00000001009b07f2 chromedriver + 370674\n12  chromedriver                        0x00000001009b0bb4 chromedriver + 371636\n13  chromedriver                        0x00000001009af3d1 chromedriver + 365521\n14  chromedriver                        0x00000001009b8260 chromedriver + 402016\n15  chromedriver                        0x00000001009b82cc chromedriver + 402124\n16  chromedriver                        0x00000001009aed16 chromedriver + 363798\n17  chromedriver                        0x00000001009b1b46 chromedriver + 375622\n18  chromedriver                        0x00000001009b07f2 chromedriver + 370674\n19  chromedriver                        0x00000001009b0bb4 chromedriver + 371636\n20  chromedriver                        0x00000001009af3d1 chromedriver + 365521\n21  chromedriver                        0x00000001009bd010 chromedriver + 421904\n22  chromedriver                        0x00000001009aed16 chromedriver + 363798\n23  chromedriver                        0x00000001009b1b46 chromedriver + 375622\n24  chromedriver                        0x00000001009b07f2 chromedriver + 370674\n25  chromedriver                        0x00000001009b0bb4 chromedriver + 371636\n26  chromedriver                        0x00000001009af3d1 chromedriver + 365521\n27  chromedriver                        0x00000001009b88af chromedriver + 403631\n28  chromedriver                        0x00000001009aed16 chromedriver + 363798\n29  chromedriver                        0x00000001009b1b46 chromedriver + 375622\n30  chromedriver                        0x00000001009b07f2 chromedriver + 370674\n31  chromedriver                        0x00000001009b0bb4 chromedriver + 371636\n32  chromedriver                        0x00000001009af3d1 chromedriver + 365521\n33  chromedriver                        0x00000001009a7076 chromedriver + 331894\n34  chromedriver                        0x00000001009aed16 chromedriver + 363798\n35  chromedriver                        0x00000001009ae264 chromedriver + 361060\n36  chromedriver                        0x00000001009ae390 chromedriver + 361360\n37  chromedriver                        0x00000001009ae6b9 chromedriver + 362169\n38  chromedriver                        0x00000001009ae66f chromedriver + 362095\n39  chromedriver                        0x00000001009cb369 chromedriver + 480105\n40  chromedriver                        0x0000000100a4e7b1 chromedriver + 1017777\n41  chromedriver                        0x0000000100a33ee3 chromedriver + 909027\n42  chromedriver                        0x00000001009fe30c chromedriver + 688908\n43  chromedriver                        0x00000001009ff88e chromedriver + 694414\n44  chromedriver                        0x0000000100dd21de chromedriver + 4702686\n45  chromedriver                        0x0000000100dd6b19 chromedriver + 4721433\n46  chromedriver                        0x0000000100dde28e chromedriver + 4752014\n47  chromedriver                        0x0000000100dd791a chromedriver + 4725018\n48  chromedriver                        0x0000000100dabb02 chromedriver + 4545282\n49  chromedriver                        0x0000000100df6888 chromedriver + 4851848\n50  chromedriver                        0x0000000100df6a05 chromedriver + 4852229\n51  chromedriver                        0x0000000100e0ce5f chromedriver + 4943455\n52  libsystem_pthread.dylib             0x00007ff803cb7259 _pthread_start + 125\n53  libsystem_pthread.dylib             0x00007ff803cb2c7b thread_start + 15\n"
     ]
    }
   ],
   "source": [
    "reviews_list = []\n",
    "for i in range(0, 1000):\n",
    "    reviews = driver.find_elements(By.XPATH, \"(//q[@class='QewHA H4 _a']/span)\") \n",
    "    for review in range(len(reviews)):\n",
    "        reviews_list.append(reviews[review].text)  \n",
    "\n",
    "    driver.find_element(By.XPATH, \"//a[@class='ui_button nav next primary ']\").click()\n",
    "    counter+=1\n",
    "    time.sleep(2)\n",
    "\n",
    "driver.quit"
   ]
  },
  {
   "cell_type": "code",
   "execution_count": 26,
   "metadata": {},
   "outputs": [
    {
     "data": {
      "text/plain": [
       "730"
      ]
     },
     "execution_count": 26,
     "metadata": {},
     "output_type": "execute_result"
    }
   ],
   "source": [
    "counter"
   ]
  },
  {
   "cell_type": "code",
   "execution_count": 27,
   "metadata": {},
   "outputs": [
    {
     "name": "stdout",
     "output_type": "stream",
     "text": [
      "3655\n"
     ]
    }
   ],
   "source": [
    "print(len(reviews_list))"
   ]
  },
  {
   "cell_type": "code",
   "execution_count": null,
   "metadata": {},
   "outputs": [],
   "source": [
    "# for i in range(0, counter+1):\n",
    "#       driver.find_element(By.XPATH, \"//a[@class='ui_button nav next primary ']\").click()\n",
    "#       time.sleep(2)\n",
    "\n",
    "# for i in range(0, 1000-counter+1):\n",
    "#     reviews = driver.find_elements(By.XPATH, \"(//q[@class='QewHA H4 _a']/span)\") \n",
    "#     for review in range(len(reviews)):\n",
    "#         reviews_list.append(reviews[review].text)  \n",
    "\n",
    "#     driver.find_element(By.XPATH, \"//a[@class='ui_button nav next primary ']\").click()\n",
    "#     counter+=1\n",
    "#     time.sleep(2)\n",
    "\n",
    "# driver.quit"
   ]
  },
  {
   "cell_type": "code",
   "execution_count": 28,
   "metadata": {},
   "outputs": [
    {
     "data": {
      "text/plain": [
       "730"
      ]
     },
     "execution_count": 28,
     "metadata": {},
     "output_type": "execute_result"
    }
   ],
   "source": [
    "counter"
   ]
  },
  {
   "cell_type": "code",
   "execution_count": 29,
   "metadata": {},
   "outputs": [
    {
     "name": "stdout",
     "output_type": "stream",
     "text": [
      "3655\n"
     ]
    }
   ],
   "source": [
    "print(len(reviews_list))"
   ]
  },
  {
   "attachments": {},
   "cell_type": "markdown",
   "metadata": {},
   "source": [
    "# 5. Load Reviews into DataFrame and Score"
   ]
  },
  {
   "cell_type": "code",
   "execution_count": 30,
   "metadata": {},
   "outputs": [
    {
     "data": {
      "text/html": [
       "<div>\n",
       "<style scoped>\n",
       "    .dataframe tbody tr th:only-of-type {\n",
       "        vertical-align: middle;\n",
       "    }\n",
       "\n",
       "    .dataframe tbody tr th {\n",
       "        vertical-align: top;\n",
       "    }\n",
       "\n",
       "    .dataframe thead th {\n",
       "        text-align: right;\n",
       "    }\n",
       "</style>\n",
       "<table border=\"1\" class=\"dataframe\">\n",
       "  <thead>\n",
       "    <tr style=\"text-align: right;\">\n",
       "      <th></th>\n",
       "      <th>Review</th>\n",
       "    </tr>\n",
       "  </thead>\n",
       "  <tbody>\n",
       "    <tr>\n",
       "      <th>0</th>\n",
       "      <td>Departed at time, good service on board, there...</td>\n",
       "    </tr>\n",
       "    <tr>\n",
       "      <th>1</th>\n",
       "      <td></td>\n",
       "    </tr>\n",
       "    <tr>\n",
       "      <th>2</th>\n",
       "      <td>We booked 3 economy tickets for HK$52k, which ...</td>\n",
       "    </tr>\n",
       "    <tr>\n",
       "      <th>3</th>\n",
       "      <td></td>\n",
       "    </tr>\n",
       "    <tr>\n",
       "      <th>4</th>\n",
       "      <td>To be fair, the flight itself is noting remark...</td>\n",
       "    </tr>\n",
       "  </tbody>\n",
       "</table>\n",
       "</div>"
      ],
      "text/plain": [
       "                                              Review\n",
       "0  Departed at time, good service on board, there...\n",
       "1                                                   \n",
       "2  We booked 3 economy tickets for HK$52k, which ...\n",
       "3                                                   \n",
       "4  To be fair, the flight itself is noting remark..."
      ]
     },
     "execution_count": 30,
     "metadata": {},
     "output_type": "execute_result"
    }
   ],
   "source": [
    "reviews = pd.DataFrame(list(zip(reviews_list)), columns=['Review'])\n",
    "reviews.head(5)"
   ]
  },
  {
   "cell_type": "code",
   "execution_count": 31,
   "metadata": {},
   "outputs": [
    {
     "data": {
      "text/html": [
       "<div>\n",
       "<style scoped>\n",
       "    .dataframe tbody tr th:only-of-type {\n",
       "        vertical-align: middle;\n",
       "    }\n",
       "\n",
       "    .dataframe tbody tr th {\n",
       "        vertical-align: top;\n",
       "    }\n",
       "\n",
       "    .dataframe thead th {\n",
       "        text-align: right;\n",
       "    }\n",
       "</style>\n",
       "<table border=\"1\" class=\"dataframe\">\n",
       "  <thead>\n",
       "    <tr style=\"text-align: right;\">\n",
       "      <th></th>\n",
       "      <th>Review</th>\n",
       "    </tr>\n",
       "  </thead>\n",
       "  <tbody>\n",
       "    <tr>\n",
       "      <th>3650</th>\n",
       "      <td>The food was so bad and no choice if you were ...</td>\n",
       "    </tr>\n",
       "    <tr>\n",
       "      <th>3651</th>\n",
       "      <td>I had a business trip to Hong Kong and was boo...</td>\n",
       "    </tr>\n",
       "    <tr>\n",
       "      <th>3652</th>\n",
       "      <td>My seat (14G) in Business Class didn't recline...</td>\n",
       "    </tr>\n",
       "    <tr>\n",
       "      <th>3653</th>\n",
       "      <td>It really was an absolutely painful trip... ca...</td>\n",
       "    </tr>\n",
       "    <tr>\n",
       "      <th>3654</th>\n",
       "      <td>First time we used this airline but we would n...</td>\n",
       "    </tr>\n",
       "  </tbody>\n",
       "</table>\n",
       "</div>"
      ],
      "text/plain": [
       "                                                 Review\n",
       "3650  The food was so bad and no choice if you were ...\n",
       "3651  I had a business trip to Hong Kong and was boo...\n",
       "3652  My seat (14G) in Business Class didn't recline...\n",
       "3653  It really was an absolutely painful trip... ca...\n",
       "3654  First time we used this airline but we would n..."
      ]
     },
     "execution_count": 31,
     "metadata": {},
     "output_type": "execute_result"
    }
   ],
   "source": [
    "reviews.tail(5)"
   ]
  },
  {
   "cell_type": "code",
   "execution_count": 32,
   "metadata": {},
   "outputs": [],
   "source": [
    "reviews['bert_score'] = reviews['Review'].apply(lambda x: bert_model(x))\n",
    "reviews['vader_compound'] = reviews['Review'].apply(lambda x: sia.polarity_scores(x)['compound'])"
   ]
  },
  {
   "cell_type": "code",
   "execution_count": 33,
   "metadata": {},
   "outputs": [
    {
     "data": {
      "text/html": [
       "<div>\n",
       "<style scoped>\n",
       "    .dataframe tbody tr th:only-of-type {\n",
       "        vertical-align: middle;\n",
       "    }\n",
       "\n",
       "    .dataframe tbody tr th {\n",
       "        vertical-align: top;\n",
       "    }\n",
       "\n",
       "    .dataframe thead th {\n",
       "        text-align: right;\n",
       "    }\n",
       "</style>\n",
       "<table border=\"1\" class=\"dataframe\">\n",
       "  <thead>\n",
       "    <tr style=\"text-align: right;\">\n",
       "      <th></th>\n",
       "      <th>Review</th>\n",
       "      <th>bert_score</th>\n",
       "      <th>vader_compound</th>\n",
       "    </tr>\n",
       "  </thead>\n",
       "  <tbody>\n",
       "    <tr>\n",
       "      <th>0</th>\n",
       "      <td>Departed at time, good service on board, there...</td>\n",
       "      <td>3</td>\n",
       "      <td>0.9618</td>\n",
       "    </tr>\n",
       "    <tr>\n",
       "      <th>1</th>\n",
       "      <td></td>\n",
       "      <td>4</td>\n",
       "      <td>0.0000</td>\n",
       "    </tr>\n",
       "    <tr>\n",
       "      <th>2</th>\n",
       "      <td>We booked 3 economy tickets for HK$52k, which ...</td>\n",
       "      <td>1</td>\n",
       "      <td>0.0000</td>\n",
       "    </tr>\n",
       "    <tr>\n",
       "      <th>3</th>\n",
       "      <td></td>\n",
       "      <td>4</td>\n",
       "      <td>0.0000</td>\n",
       "    </tr>\n",
       "    <tr>\n",
       "      <th>4</th>\n",
       "      <td>To be fair, the flight itself is noting remark...</td>\n",
       "      <td>3</td>\n",
       "      <td>-0.3295</td>\n",
       "    </tr>\n",
       "    <tr>\n",
       "      <th>...</th>\n",
       "      <td>...</td>\n",
       "      <td>...</td>\n",
       "      <td>...</td>\n",
       "    </tr>\n",
       "    <tr>\n",
       "      <th>3650</th>\n",
       "      <td>The food was so bad and no choice if you were ...</td>\n",
       "      <td>1</td>\n",
       "      <td>-0.7699</td>\n",
       "    </tr>\n",
       "    <tr>\n",
       "      <th>3651</th>\n",
       "      <td>I had a business trip to Hong Kong and was boo...</td>\n",
       "      <td>5</td>\n",
       "      <td>0.8173</td>\n",
       "    </tr>\n",
       "    <tr>\n",
       "      <th>3652</th>\n",
       "      <td>My seat (14G) in Business Class didn't recline...</td>\n",
       "      <td>2</td>\n",
       "      <td>0.3291</td>\n",
       "    </tr>\n",
       "    <tr>\n",
       "      <th>3653</th>\n",
       "      <td>It really was an absolutely painful trip... ca...</td>\n",
       "      <td>1</td>\n",
       "      <td>-0.7645</td>\n",
       "    </tr>\n",
       "    <tr>\n",
       "      <th>3654</th>\n",
       "      <td>First time we used this airline but we would n...</td>\n",
       "      <td>5</td>\n",
       "      <td>0.8462</td>\n",
       "    </tr>\n",
       "  </tbody>\n",
       "</table>\n",
       "<p>3655 rows × 3 columns</p>\n",
       "</div>"
      ],
      "text/plain": [
       "                                                 Review  bert_score  \\\n",
       "0     Departed at time, good service on board, there...           3   \n",
       "1                                                                 4   \n",
       "2     We booked 3 economy tickets for HK$52k, which ...           1   \n",
       "3                                                                 4   \n",
       "4     To be fair, the flight itself is noting remark...           3   \n",
       "...                                                 ...         ...   \n",
       "3650  The food was so bad and no choice if you were ...           1   \n",
       "3651  I had a business trip to Hong Kong and was boo...           5   \n",
       "3652  My seat (14G) in Business Class didn't recline...           2   \n",
       "3653  It really was an absolutely painful trip... ca...           1   \n",
       "3654  First time we used this airline but we would n...           5   \n",
       "\n",
       "      vader_compound  \n",
       "0             0.9618  \n",
       "1             0.0000  \n",
       "2             0.0000  \n",
       "3             0.0000  \n",
       "4            -0.3295  \n",
       "...              ...  \n",
       "3650         -0.7699  \n",
       "3651          0.8173  \n",
       "3652          0.3291  \n",
       "3653         -0.7645  \n",
       "3654          0.8462  \n",
       "\n",
       "[3655 rows x 3 columns]"
      ]
     },
     "execution_count": 33,
     "metadata": {},
     "output_type": "execute_result"
    }
   ],
   "source": [
    "reviews"
   ]
  },
  {
   "cell_type": "code",
   "execution_count": 34,
   "metadata": {},
   "outputs": [
    {
     "data": {
      "image/png": "[encoded data removed]",
      "text/plain": [
       "<Figure size 432x288 with 1 Axes>"
      ]
     },
     "metadata": {
      "needs_background": "light"
     },
     "output_type": "display_data"
    }
   ],
   "source": [
    "from wordcloud import WordCloud\n",
    "import seaborn as sns\n",
    "import matplotlib.pyplot as plt\n",
    "\n",
    "allWords = ' '.join([twts for twts in reviews['Review']])\n",
    "wordCloud = WordCloud(width=500, height=300, random_state=21, max_font_size=110, background_color=\"white\").generate(allWords)\n",
    "\n",
    "plt.imshow(wordCloud, interpolation=\"bilinear\")\n",
    "plt.axis('off')\n",
    "plt.show()"
   ]
  },
  {
   "cell_type": "code",
   "execution_count": 35,
   "metadata": {},
   "outputs": [],
   "source": [
    "def get_sentiment(compound):\n",
    "    if compound < 0:\n",
    "        return 'negative'\n",
    "    elif compound == 0:\n",
    "        return 'neutral'\n",
    "    else:\n",
    "        return 'positive'"
   ]
  },
  {
   "cell_type": "code",
   "execution_count": 36,
   "metadata": {},
   "outputs": [],
   "source": [
    "reviews['sentiment'] = reviews['vader_compound'].apply(lambda x: get_sentiment(x))"
   ]
  },
  {
   "cell_type": "code",
   "execution_count": 37,
   "metadata": {},
   "outputs": [
    {
     "data": {
      "text/html": [
       "<div>\n",
       "<style scoped>\n",
       "    .dataframe tbody tr th:only-of-type {\n",
       "        vertical-align: middle;\n",
       "    }\n",
       "\n",
       "    .dataframe tbody tr th {\n",
       "        vertical-align: top;\n",
       "    }\n",
       "\n",
       "    .dataframe thead th {\n",
       "        text-align: right;\n",
       "    }\n",
       "</style>\n",
       "<table border=\"1\" class=\"dataframe\">\n",
       "  <thead>\n",
       "    <tr style=\"text-align: right;\">\n",
       "      <th></th>\n",
       "      <th>Review</th>\n",
       "      <th>bert_score</th>\n",
       "      <th>vader_compound</th>\n",
       "      <th>sentiment</th>\n",
       "    </tr>\n",
       "  </thead>\n",
       "  <tbody>\n",
       "    <tr>\n",
       "      <th>0</th>\n",
       "      <td>Departed at time, good service on board, there...</td>\n",
       "      <td>3</td>\n",
       "      <td>0.9618</td>\n",
       "      <td>positive</td>\n",
       "    </tr>\n",
       "    <tr>\n",
       "      <th>1</th>\n",
       "      <td></td>\n",
       "      <td>4</td>\n",
       "      <td>0.0000</td>\n",
       "      <td>neutral</td>\n",
       "    </tr>\n",
       "    <tr>\n",
       "      <th>2</th>\n",
       "      <td>We booked 3 economy tickets for HK$52k, which ...</td>\n",
       "      <td>1</td>\n",
       "      <td>0.0000</td>\n",
       "      <td>neutral</td>\n",
       "    </tr>\n",
       "    <tr>\n",
       "      <th>3</th>\n",
       "      <td></td>\n",
       "      <td>4</td>\n",
       "      <td>0.0000</td>\n",
       "      <td>neutral</td>\n",
       "    </tr>\n",
       "    <tr>\n",
       "      <th>4</th>\n",
       "      <td>To be fair, the flight itself is noting remark...</td>\n",
       "      <td>3</td>\n",
       "      <td>-0.3295</td>\n",
       "      <td>negative</td>\n",
       "    </tr>\n",
       "    <tr>\n",
       "      <th>...</th>\n",
       "      <td>...</td>\n",
       "      <td>...</td>\n",
       "      <td>...</td>\n",
       "      <td>...</td>\n",
       "    </tr>\n",
       "    <tr>\n",
       "      <th>3650</th>\n",
       "      <td>The food was so bad and no choice if you were ...</td>\n",
       "      <td>1</td>\n",
       "      <td>-0.7699</td>\n",
       "      <td>negative</td>\n",
       "    </tr>\n",
       "    <tr>\n",
       "      <th>3651</th>\n",
       "      <td>I had a business trip to Hong Kong and was boo...</td>\n",
       "      <td>5</td>\n",
       "      <td>0.8173</td>\n",
       "      <td>positive</td>\n",
       "    </tr>\n",
       "    <tr>\n",
       "      <th>3652</th>\n",
       "      <td>My seat (14G) in Business Class didn't recline...</td>\n",
       "      <td>2</td>\n",
       "      <td>0.3291</td>\n",
       "      <td>positive</td>\n",
       "    </tr>\n",
       "    <tr>\n",
       "      <th>3653</th>\n",
       "      <td>It really was an absolutely painful trip... ca...</td>\n",
       "      <td>1</td>\n",
       "      <td>-0.7645</td>\n",
       "      <td>negative</td>\n",
       "    </tr>\n",
       "    <tr>\n",
       "      <th>3654</th>\n",
       "      <td>First time we used this airline but we would n...</td>\n",
       "      <td>5</td>\n",
       "      <td>0.8462</td>\n",
       "      <td>positive</td>\n",
       "    </tr>\n",
       "  </tbody>\n",
       "</table>\n",
       "<p>3655 rows × 4 columns</p>\n",
       "</div>"
      ],
      "text/plain": [
       "                                                 Review  bert_score  \\\n",
       "0     Departed at time, good service on board, there...           3   \n",
       "1                                                                 4   \n",
       "2     We booked 3 economy tickets for HK$52k, which ...           1   \n",
       "3                                                                 4   \n",
       "4     To be fair, the flight itself is noting remark...           3   \n",
       "...                                                 ...         ...   \n",
       "3650  The food was so bad and no choice if you were ...           1   \n",
       "3651  I had a business trip to Hong Kong and was boo...           5   \n",
       "3652  My seat (14G) in Business Class didn't recline...           2   \n",
       "3653  It really was an absolutely painful trip... ca...           1   \n",
       "3654  First time we used this airline but we would n...           5   \n",
       "\n",
       "      vader_compound sentiment  \n",
       "0             0.9618  positive  \n",
       "1             0.0000   neutral  \n",
       "2             0.0000   neutral  \n",
       "3             0.0000   neutral  \n",
       "4            -0.3295  negative  \n",
       "...              ...       ...  \n",
       "3650         -0.7699  negative  \n",
       "3651          0.8173  positive  \n",
       "3652          0.3291  positive  \n",
       "3653         -0.7645  negative  \n",
       "3654          0.8462  positive  \n",
       "\n",
       "[3655 rows x 4 columns]"
      ]
     },
     "execution_count": 37,
     "metadata": {},
     "output_type": "execute_result"
    }
   ],
   "source": [
    "reviews"
   ]
  },
  {
   "attachments": {},
   "cell_type": "markdown",
   "metadata": {},
   "source": [
    "## bert sentiment"
   ]
  },
  {
   "cell_type": "code",
   "execution_count": 38,
   "metadata": {},
   "outputs": [
    {
     "data": {
      "text/plain": [
       "5    982\n",
       "4    867\n",
       "3    650\n",
       "1    597\n",
       "2    559\n",
       "Name: bert_score, dtype: int64"
      ]
     },
     "execution_count": 38,
     "metadata": {},
     "output_type": "execute_result"
    }
   ],
   "source": [
    "reviews['bert_score'].value_counts()"
   ]
  },
  {
   "cell_type": "code",
   "execution_count": 39,
   "metadata": {},
   "outputs": [
    {
     "data": {
      "text/plain": [
       "<function matplotlib.pyplot.show(close=None, block=None)>"
      ]
     },
     "execution_count": 39,
     "metadata": {},
     "output_type": "execute_result"
    },
    {
     "data": {
      "image/png": "[encoded data removed]",
      "text/plain": [
       "<Figure size 1080x720 with 1 Axes>"
      ]
     },
     "metadata": {
      "needs_background": "light"
     },
     "output_type": "display_data"
    }
   ],
   "source": [
    "plt.figure(figsize=(15,10))\n",
    "plt.title('Sentiment Analysis')\n",
    "plt.xlabel('Sentiment')\n",
    "plt.ylabel('Counts')\n",
    "reviews['bert_score'].value_counts().plot.bar()\n",
    "plt.xticks(rotation=50)\n",
    "plt.show"
   ]
  },
  {
   "cell_type": "code",
   "execution_count": 40,
   "metadata": {},
   "outputs": [
    {
     "data": {
      "text/plain": [
       "Text(0.5, 0, 'Airlines Review Sentiment')"
      ]
     },
     "execution_count": 40,
     "metadata": {},
     "output_type": "execute_result"
    },
    {
     "data": {
      "image/png": "[encoded data removed]",
      "text/plain": [
       "<Figure size 432x288 with 1 Axes>"
      ]
     },
     "metadata": {},
     "output_type": "display_data"
    }
   ],
   "source": [
    "reviews.bert_score.value_counts().plot.pie()\n",
    "plt.xlabel(\"Airlines Review Sentiment\")"
   ]
  },
  {
   "attachments": {},
   "cell_type": "markdown",
   "metadata": {},
   "source": [
    "## vader sentiment"
   ]
  },
  {
   "cell_type": "code",
   "execution_count": 41,
   "metadata": {},
   "outputs": [
    {
     "data": {
      "text/plain": [
       "positive    2562\n",
       "negative     891\n",
       "neutral      202\n",
       "Name: sentiment, dtype: int64"
      ]
     },
     "execution_count": 41,
     "metadata": {},
     "output_type": "execute_result"
    }
   ],
   "source": [
    "reviews['sentiment'].value_counts()"
   ]
  },
  {
   "cell_type": "code",
   "execution_count": 42,
   "metadata": {},
   "outputs": [
    {
     "data": {
      "text/plain": [
       "<function matplotlib.pyplot.show(close=None, block=None)>"
      ]
     },
     "execution_count": 42,
     "metadata": {},
     "output_type": "execute_result"
    },
    {
     "data": {
      "image/png": "[encoded data removed]",
      "text/plain": [
       "<Figure size 1080x720 with 1 Axes>"
      ]
     },
     "metadata": {
      "needs_background": "light"
     },
     "output_type": "display_data"
    }
   ],
   "source": [
    "plt.figure(figsize=(15,10))\n",
    "plt.title('Sentiment Analysis')\n",
    "plt.xlabel('Sentiment')\n",
    "plt.ylabel('Counts')\n",
    "reviews['sentiment'].value_counts().plot.bar()\n",
    "plt.xticks(rotation=50)\n",
    "plt.show"
   ]
  },
  {
   "cell_type": "code",
   "execution_count": 43,
   "metadata": {},
   "outputs": [
    {
     "data": {
      "text/plain": [
       "Text(0.5, 0, 'Airlines Review Sentiment')"
      ]
     },
     "execution_count": 43,
     "metadata": {},
     "output_type": "execute_result"
    },
    {
     "data": {
      "image/png": "[encoded data removed]",
      "text/plain": [
       "<Figure size 432x288 with 1 Axes>"
      ]
     },
     "metadata": {},
     "output_type": "display_data"
    }
   ],
   "source": [
    "reviews.sentiment.value_counts().plot.pie()\n",
    "plt.xlabel(\"Airlines Review Sentiment\")"
   ]
  },
  {
   "cell_type": "code",
   "execution_count": 44,
   "metadata": {},
   "outputs": [
    {
     "data": {
      "image/png": "[encoded data removed]",
      "text/plain": [
       "<Figure size 576x360 with 1 Axes>"
      ]
     },
     "metadata": {
      "needs_background": "light"
     },
     "output_type": "display_data"
    }
   ],
   "source": [
    "plt.figure(figsize=(8, 5))\n",
    "sns.histplot(reviews, x='vader_compound', color=\"darkblue\", bins=10, binrange=(-1,1))\n",
    "plt.title(\"Airlines Review Sentiment Distribution\")\n",
    "plt.xlabel(\"Compound Scores\")\n",
    "plt.ylabel(\"\")\n",
    "plt.tight_layout()"
   ]
  },
  {
   "cell_type": "code",
   "execution_count": 45,
   "metadata": {},
   "outputs": [
    {
     "data": {
      "image/png": "[encoded data removed]",
      "text/plain": [
       "<Figure size 432x288 with 1 Axes>"
      ]
     },
     "metadata": {
      "needs_background": "light"
     },
     "output_type": "display_data"
    }
   ],
   "source": [
    "ax = sns.barplot(data=reviews, x='bert_score', y='vader_compound')\n",
    "ax.set_title('Compound Score by Cathay Pacific Review')\n",
    "plt.show()"
   ]
  }
 ],
 "metadata": {
  "kernelspec": {
   "display_name": "venv1",
   "language": "python",
   "name": "python3"
  },
  "language_info": {
   "codemirror_mode": {
    "name": "ipython",
    "version": 3
   },
   "file_extension": ".py",
   "mimetype": "text/x-python",
   "name": "python",
   "nbconvert_exporter": "python",
   "pygments_lexer": "ipython3",
   "version": "3.9.12 (main, Apr  5 2022, 01:53:17) \n[Clang 12.0.0 ]"
  },
  "orig_nbformat": 4,
  "vscode": {
   "interpreter": {
    "hash": "d83316a78fe53dba4bcf5fc19e6ccd2f4745438e75aad2c87563e03c215aad46"
   }
  }
 },
 "nbformat": 4,
 "nbformat_minor": 2
}
